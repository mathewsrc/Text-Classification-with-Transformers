{
  "nbformat": 4,
  "nbformat_minor": 0,
  "metadata": {
    "accelerator": "GPU",
    "colab": {
      "provenance": [],
      "collapsed_sections": [],
      "machine_shape": "hm",
      "include_colab_link": true
    },
    "kernelspec": {
      "display_name": "Python 3",
      "name": "python3"
    }
  },
  "cells": [
    {
      "cell_type": "markdown",
      "metadata": {
        "id": "view-in-github",
        "colab_type": "text"
      },
      "source": [
        "<a href=\"https://colab.research.google.com/github/punkmic/Text-Classification/blob/master/MSDSTextClassification_Lab1_DataPrep.ipynb\" target=\"_parent\"><img src=\"https://colab.research.google.com/assets/colab-badge.svg\" alt=\"Open In Colab\"/></a>"
      ]
    },
    {
      "cell_type": "markdown",
      "source": [
        "# Text Classification, Lab 1: Data preparation with pandas"
      ],
      "metadata": {
        "id": "vBVrSZE47UNQ"
      }
    },
    {
      "cell_type": "markdown",
      "source": [
        "## ⚡️ Make a Copy\n",
        "\n",
        "Save a copy of this notebook in your Google Drive before continuing. Be sure to edit your own copy, not the original notebook."
      ],
      "metadata": {
        "id": "oFjtWQGK3X-2"
      }
    },
    {
      "cell_type": "markdown",
      "source": [
        "## 🏁 We are working toward a goal: the final project"
      ],
      "metadata": {
        "id": "SNo8f6Hb7hPw"
      }
    },
    {
      "cell_type": "markdown",
      "source": [
        "Please take a moment to review the requirements for the upcoming final project for this course. This lab assignment, as well as the follow-up lab are designed to step you toward the goal of completing your final project."
      ],
      "metadata": {
        "id": "jhXh4AVX7lwO"
      }
    },
    {
      "cell_type": "markdown",
      "source": [
        "## 🐍 Python knowledge expected"
      ],
      "metadata": {
        "id": "7dYHxxvq7-V4"
      }
    },
    {
      "cell_type": "markdown",
      "source": [
        "This lab and the remainder of this course, as well as the other courses in this Courera specialization track, all assume some prior experience in programming. Particularly, you will be using Python to solve analytics problems.\n",
        "\n",
        "If you need to brush up on your Python, please see the [Python revew notebook](https://drive.google.com/file/d/17WGK_Exij4_N3k--CKok3y8ZqE1ZsCqW/view?usp=sharing). You should understand and be familiar with all of the concepts in that notebook before moving forward."
      ],
      "metadata": {
        "id": "XhBGuUel8Gps"
      }
    },
    {
      "cell_type": "markdown",
      "source": [
        "## <img src=\"https://colab.research.google.com/img/favicon.ico\" width=20 /> Everything will be done in Google Colab"
      ],
      "metadata": {
        "id": "vFvaehjf8-vc"
      }
    },
    {
      "cell_type": "markdown",
      "source": [
        "Built on top of the [jupyter project](https://jupyter.org/), Google's Colab notebook environment is both a great learning resource and an excellent platform for programmatic analytics.\n",
        "\n",
        "Unless you are already familiar with Colab, please be sure to peruse the [Intro to Colab notebook](https://drive.google.com/file/d/1niGuXfN8KWL9NAvIuJf4IITO0qi2xQQb/view?usp=sharing)"
      ],
      "metadata": {
        "id": "wMNfc5WB_jkl"
      }
    },
    {
      "cell_type": "markdown",
      "source": [
        "## 🚦 Getting started"
      ],
      "metadata": {
        "id": "JGegU1SBBdFb"
      }
    },
    {
      "cell_type": "markdown",
      "source": [
        "This and other labs will have the following workflow:\n",
        "\n",
        "**Do the steps.**\n",
        "\n",
        "Work through the notebook step-by-step and execute the code along the way. Be sure you understand what is happening at each step. Don't move on without understanding what the code is doing.\n",
        "\n",
        "**Answer the questions.**\n",
        "\n",
        "Through the lab, there will be a handful of questions for you to answer. These are designed to check that you are following along and to assess your understanding. The answers to these questions should be entered into the Lab quiz, available in the course after this lab assignment."
      ],
      "metadata": {
        "id": "LG_SIwzgAP6n"
      }
    },
    {
      "cell_type": "markdown",
      "source": [
        "## 📓 About this lab"
      ],
      "metadata": {
        "id": "ZXuMewVjCBYy"
      }
    },
    {
      "cell_type": "markdown",
      "source": [
        "To get started on working toward the goal of completing your project, the two lab notebooks will step you into the building of a classification model with KTrain. These exercises will be nearly identical to the lectures, so be sure to watch those videos.\n",
        "\n",
        "For this lab, you will just complete the pre-processing of data, using the popular Pandas library to manipulate the data.\n",
        "\n",
        "Let's get started!\n",
        "\n",
        "---"
      ],
      "metadata": {
        "id": "8ERHzPAZCE9t"
      }
    },
    {
      "cell_type": "markdown",
      "metadata": {
        "id": "hGSUArJ_ZYN3"
      },
      "source": [
        "## Imports"
      ]
    },
    {
      "cell_type": "markdown",
      "source": [
        "We're going to be using Google's Tensorflow package: \n",
        "https://www.tensorflow.org/tutorials\n",
        "\n",
        "We're using an API wrapper for Tensorflow called ktrain. It's absolutely fabulous because it really abstracts the whole deep learning process into a workflow so easy, even a computational social scientist can do it:\n",
        "https://github.com/amaiya/ktrain"
      ],
      "metadata": {
        "id": "Y0MIZDrs0Ddx"
      }
    },
    {
      "cell_type": "code",
      "metadata": {
        "id": "16hoKG5dbeWs"
      },
      "source": [
        "import pandas as pd\n",
        "import numpy as np"
      ],
      "execution_count": 1,
      "outputs": []
    },
    {
      "cell_type": "markdown",
      "source": [
        "## Mount Google Drive"
      ],
      "metadata": {
        "id": "WGH867GCwvOO"
      }
    },
    {
      "cell_type": "code",
      "source": [
        "from google.colab import drive\n",
        "drive.mount('/content/drive')"
      ],
      "metadata": {
        "id": "1Z0VbCzGwkDK",
        "outputId": "d19822cd-348b-4d97-e4a5-54c4a6d440df",
        "colab": {
          "base_uri": "https://localhost:8080/"
        }
      },
      "execution_count": 2,
      "outputs": [
        {
          "output_type": "stream",
          "name": "stdout",
          "text": [
            "Mounted at /content/drive\n"
          ]
        }
      ]
    },
    {
      "cell_type": "markdown",
      "source": [
        "## Set your google colab runtime to use GPU, a must for deep learning!\n",
        "\n",
        "Runtime > Change Runtime Type > GPU\n",
        "\n",
        "The following code snippet will show you GPU information for your runtime."
      ],
      "metadata": {
        "id": "E3XGSpfy0xPv"
      }
    },
    {
      "cell_type": "code",
      "source": [
        "gpu_info = !nvidia-smi\n",
        "gpu_info = '\\n'.join(gpu_info)\n",
        "if gpu_info.find('failed') >= 0:\n",
        "  print('Not connected to a GPU')\n",
        "else:\n",
        "  print(gpu_info)"
      ],
      "metadata": {
        "id": "I0GWta-7ELIN",
        "colab": {
          "base_uri": "https://localhost:8080/"
        },
        "outputId": "d6c7004d-f1ca-4ddd-d5a2-84f4f062df83"
      },
      "execution_count": 3,
      "outputs": [
        {
          "output_type": "stream",
          "name": "stdout",
          "text": [
            "Tue Nov  1 22:56:21 2022       \n",
            "+-----------------------------------------------------------------------------+\n",
            "| NVIDIA-SMI 460.32.03    Driver Version: 460.32.03    CUDA Version: 11.2     |\n",
            "|-------------------------------+----------------------+----------------------+\n",
            "| GPU  Name        Persistence-M| Bus-Id        Disp.A | Volatile Uncorr. ECC |\n",
            "| Fan  Temp  Perf  Pwr:Usage/Cap|         Memory-Usage | GPU-Util  Compute M. |\n",
            "|                               |                      |               MIG M. |\n",
            "|===============================+======================+======================|\n",
            "|   0  Tesla T4            Off  | 00000000:00:04.0 Off |                    0 |\n",
            "| N/A   35C    P8     9W /  70W |      0MiB / 15109MiB |      0%      Default |\n",
            "|                               |                      |                  N/A |\n",
            "+-------------------------------+----------------------+----------------------+\n",
            "                                                                               \n",
            "+-----------------------------------------------------------------------------+\n",
            "| Processes:                                                                  |\n",
            "|  GPU   GI   CI        PID   Type   Process name                  GPU Memory |\n",
            "|        ID   ID                                                   Usage      |\n",
            "|=============================================================================|\n",
            "|  No running processes found                                                 |\n",
            "+-----------------------------------------------------------------------------+\n"
          ]
        }
      ]
    },
    {
      "cell_type": "markdown",
      "source": [
        "## Get the data"
      ],
      "metadata": {
        "id": "oLd-Qkl7Djha"
      }
    },
    {
      "cell_type": "markdown",
      "source": [
        "For this project, we're going to be using data from Kaggle. Whenever you're on the hunt for some data to play around with in the predictive modeling word, Kaggle's database of datasets is a great place to poke around. Our data comes from Kaggle's News Category database: https://www.kaggle.com/rmisra/news-category-dataset/version/2\n",
        "\n",
        "For this lab, we will use a version of this data which has been converted from .jsonl to json format which works well with pandas. The modified data file is available in the course assets.\n",
        "\n",
        "⤵️ **Before moving forward:** download the data file from the course assets and upload it to the root of your Google Drive."
      ],
      "metadata": {
        "id": "idE4-ojt0-dH"
      }
    },
    {
      "cell_type": "code",
      "source": [
        "reviews = pd.read_json(\"drive/MyDrive/news_category_trainingdata.json\")"
      ],
      "metadata": {
        "id": "a7mhLblG6saq"
      },
      "execution_count": 4,
      "outputs": []
    },
    {
      "cell_type": "markdown",
      "source": [
        "### 📁 Mount Google Drive"
      ],
      "metadata": {
        "id": "aEtJHb0dzOO_"
      }
    },
    {
      "cell_type": "markdown",
      "source": [
        "Select the folder icon in the left side-bar, then the Mount Drive icon. Colab will either mount the Drive for you, or will place a code snippet into the notebook which will mount the drive when executed."
      ],
      "metadata": {
        "id": "qlqjuFE8zSle"
      }
    },
    {
      "cell_type": "markdown",
      "source": [
        "## Inspect the data"
      ],
      "metadata": {
        "id": "x-NXTV--Y3ue"
      }
    },
    {
      "cell_type": "code",
      "source": [
        "reviews.head()"
      ],
      "metadata": {
        "id": "quwyVcHh6P1s",
        "outputId": "cc95ec4b-1307-4509-8d7e-2429affc675f",
        "colab": {
          "base_uri": "https://localhost:8080/",
          "height": 206
        }
      },
      "execution_count": 5,
      "outputs": [
        {
          "output_type": "execute_result",
          "data": {
            "text/plain": [
              "        category                                           headline  \\\n",
              "0          CRIME  There Were 2 Mass Shootings In Texas Last Week...   \n",
              "1  ENTERTAINMENT  Will Smith Joins Diplo And Nicky Jam For The 2...   \n",
              "2  ENTERTAINMENT    Hugh Grant Marries For The First Time At Age 57   \n",
              "3  ENTERTAINMENT  Jim Carrey Blasts 'Castrato' Adam Schiff And D...   \n",
              "4  ENTERTAINMENT  Julianna Margulies Uses Donald Trump Poop Bags...   \n",
              "\n",
              "           authors                                               link  \\\n",
              "0  Melissa Jeltsen  https://www.huffingtonpost.com/entry/texas-ama...   \n",
              "1    Andy McDonald  https://www.huffingtonpost.com/entry/will-smit...   \n",
              "2       Ron Dicker  https://www.huffingtonpost.com/entry/hugh-gran...   \n",
              "3       Ron Dicker  https://www.huffingtonpost.com/entry/jim-carre...   \n",
              "4       Ron Dicker  https://www.huffingtonpost.com/entry/julianna-...   \n",
              "\n",
              "                                   short_description       date  \n",
              "0  She left her husband. He killed their children... 2018-05-26  \n",
              "1                           Of course it has a song. 2018-05-26  \n",
              "2  The actor and his longtime girlfriend Anna Ebe... 2018-05-26  \n",
              "3  The actor gives Dems an ass-kicking for not fi... 2018-05-26  \n",
              "4  The \"Dietland\" actress said using the bags is ... 2018-05-26  "
            ],
            "text/html": [
              "\n",
              "  <div id=\"df-185931da-6b8f-4c38-85fc-72ddb5a960db\">\n",
              "    <div class=\"colab-df-container\">\n",
              "      <div>\n",
              "<style scoped>\n",
              "    .dataframe tbody tr th:only-of-type {\n",
              "        vertical-align: middle;\n",
              "    }\n",
              "\n",
              "    .dataframe tbody tr th {\n",
              "        vertical-align: top;\n",
              "    }\n",
              "\n",
              "    .dataframe thead th {\n",
              "        text-align: right;\n",
              "    }\n",
              "</style>\n",
              "<table border=\"1\" class=\"dataframe\">\n",
              "  <thead>\n",
              "    <tr style=\"text-align: right;\">\n",
              "      <th></th>\n",
              "      <th>category</th>\n",
              "      <th>headline</th>\n",
              "      <th>authors</th>\n",
              "      <th>link</th>\n",
              "      <th>short_description</th>\n",
              "      <th>date</th>\n",
              "    </tr>\n",
              "  </thead>\n",
              "  <tbody>\n",
              "    <tr>\n",
              "      <th>0</th>\n",
              "      <td>CRIME</td>\n",
              "      <td>There Were 2 Mass Shootings In Texas Last Week...</td>\n",
              "      <td>Melissa Jeltsen</td>\n",
              "      <td>https://www.huffingtonpost.com/entry/texas-ama...</td>\n",
              "      <td>She left her husband. He killed their children...</td>\n",
              "      <td>2018-05-26</td>\n",
              "    </tr>\n",
              "    <tr>\n",
              "      <th>1</th>\n",
              "      <td>ENTERTAINMENT</td>\n",
              "      <td>Will Smith Joins Diplo And Nicky Jam For The 2...</td>\n",
              "      <td>Andy McDonald</td>\n",
              "      <td>https://www.huffingtonpost.com/entry/will-smit...</td>\n",
              "      <td>Of course it has a song.</td>\n",
              "      <td>2018-05-26</td>\n",
              "    </tr>\n",
              "    <tr>\n",
              "      <th>2</th>\n",
              "      <td>ENTERTAINMENT</td>\n",
              "      <td>Hugh Grant Marries For The First Time At Age 57</td>\n",
              "      <td>Ron Dicker</td>\n",
              "      <td>https://www.huffingtonpost.com/entry/hugh-gran...</td>\n",
              "      <td>The actor and his longtime girlfriend Anna Ebe...</td>\n",
              "      <td>2018-05-26</td>\n",
              "    </tr>\n",
              "    <tr>\n",
              "      <th>3</th>\n",
              "      <td>ENTERTAINMENT</td>\n",
              "      <td>Jim Carrey Blasts 'Castrato' Adam Schiff And D...</td>\n",
              "      <td>Ron Dicker</td>\n",
              "      <td>https://www.huffingtonpost.com/entry/jim-carre...</td>\n",
              "      <td>The actor gives Dems an ass-kicking for not fi...</td>\n",
              "      <td>2018-05-26</td>\n",
              "    </tr>\n",
              "    <tr>\n",
              "      <th>4</th>\n",
              "      <td>ENTERTAINMENT</td>\n",
              "      <td>Julianna Margulies Uses Donald Trump Poop Bags...</td>\n",
              "      <td>Ron Dicker</td>\n",
              "      <td>https://www.huffingtonpost.com/entry/julianna-...</td>\n",
              "      <td>The \"Dietland\" actress said using the bags is ...</td>\n",
              "      <td>2018-05-26</td>\n",
              "    </tr>\n",
              "  </tbody>\n",
              "</table>\n",
              "</div>\n",
              "      <button class=\"colab-df-convert\" onclick=\"convertToInteractive('df-185931da-6b8f-4c38-85fc-72ddb5a960db')\"\n",
              "              title=\"Convert this dataframe to an interactive table.\"\n",
              "              style=\"display:none;\">\n",
              "        \n",
              "  <svg xmlns=\"http://www.w3.org/2000/svg\" height=\"24px\"viewBox=\"0 0 24 24\"\n",
              "       width=\"24px\">\n",
              "    <path d=\"M0 0h24v24H0V0z\" fill=\"none\"/>\n",
              "    <path d=\"M18.56 5.44l.94 2.06.94-2.06 2.06-.94-2.06-.94-.94-2.06-.94 2.06-2.06.94zm-11 1L8.5 8.5l.94-2.06 2.06-.94-2.06-.94L8.5 2.5l-.94 2.06-2.06.94zm10 10l.94 2.06.94-2.06 2.06-.94-2.06-.94-.94-2.06-.94 2.06-2.06.94z\"/><path d=\"M17.41 7.96l-1.37-1.37c-.4-.4-.92-.59-1.43-.59-.52 0-1.04.2-1.43.59L10.3 9.45l-7.72 7.72c-.78.78-.78 2.05 0 2.83L4 21.41c.39.39.9.59 1.41.59.51 0 1.02-.2 1.41-.59l7.78-7.78 2.81-2.81c.8-.78.8-2.07 0-2.86zM5.41 20L4 18.59l7.72-7.72 1.47 1.35L5.41 20z\"/>\n",
              "  </svg>\n",
              "      </button>\n",
              "      \n",
              "  <style>\n",
              "    .colab-df-container {\n",
              "      display:flex;\n",
              "      flex-wrap:wrap;\n",
              "      gap: 12px;\n",
              "    }\n",
              "\n",
              "    .colab-df-convert {\n",
              "      background-color: #E8F0FE;\n",
              "      border: none;\n",
              "      border-radius: 50%;\n",
              "      cursor: pointer;\n",
              "      display: none;\n",
              "      fill: #1967D2;\n",
              "      height: 32px;\n",
              "      padding: 0 0 0 0;\n",
              "      width: 32px;\n",
              "    }\n",
              "\n",
              "    .colab-df-convert:hover {\n",
              "      background-color: #E2EBFA;\n",
              "      box-shadow: 0px 1px 2px rgba(60, 64, 67, 0.3), 0px 1px 3px 1px rgba(60, 64, 67, 0.15);\n",
              "      fill: #174EA6;\n",
              "    }\n",
              "\n",
              "    [theme=dark] .colab-df-convert {\n",
              "      background-color: #3B4455;\n",
              "      fill: #D2E3FC;\n",
              "    }\n",
              "\n",
              "    [theme=dark] .colab-df-convert:hover {\n",
              "      background-color: #434B5C;\n",
              "      box-shadow: 0px 1px 3px 1px rgba(0, 0, 0, 0.15);\n",
              "      filter: drop-shadow(0px 1px 2px rgba(0, 0, 0, 0.3));\n",
              "      fill: #FFFFFF;\n",
              "    }\n",
              "  </style>\n",
              "\n",
              "      <script>\n",
              "        const buttonEl =\n",
              "          document.querySelector('#df-185931da-6b8f-4c38-85fc-72ddb5a960db button.colab-df-convert');\n",
              "        buttonEl.style.display =\n",
              "          google.colab.kernel.accessAllowed ? 'block' : 'none';\n",
              "\n",
              "        async function convertToInteractive(key) {\n",
              "          const element = document.querySelector('#df-185931da-6b8f-4c38-85fc-72ddb5a960db');\n",
              "          const dataTable =\n",
              "            await google.colab.kernel.invokeFunction('convertToInteractive',\n",
              "                                                     [key], {});\n",
              "          if (!dataTable) return;\n",
              "\n",
              "          const docLinkHtml = 'Like what you see? Visit the ' +\n",
              "            '<a target=\"_blank\" href=https://colab.research.google.com/notebooks/data_table.ipynb>data table notebook</a>'\n",
              "            + ' to learn more about interactive tables.';\n",
              "          element.innerHTML = '';\n",
              "          dataTable['output_type'] = 'display_data';\n",
              "          await google.colab.output.renderOutput(dataTable, element);\n",
              "          const docLink = document.createElement('div');\n",
              "          docLink.innerHTML = docLinkHtml;\n",
              "          element.appendChild(docLink);\n",
              "        }\n",
              "      </script>\n",
              "    </div>\n",
              "  </div>\n",
              "  "
            ]
          },
          "metadata": {},
          "execution_count": 5
        }
      ]
    },
    {
      "cell_type": "markdown",
      "source": [
        "## Prepare the data"
      ],
      "metadata": {
        "id": "HbCERZaXG0p-"
      }
    },
    {
      "cell_type": "markdown",
      "source": [
        "Most machine learning tools in Python accept one field/column/string. So we have to merge our two text column. Let's separate it with a space."
      ],
      "metadata": {
        "id": "fZ7xO9Aa6iyU"
      }
    },
    {
      "cell_type": "code",
      "source": [
        "reviews['combined_text'] = reviews['headline'] + ' ' + reviews['short_description']"
      ],
      "metadata": {
        "id": "F6VLEzaSuDyx"
      },
      "execution_count": 6,
      "outputs": []
    },
    {
      "cell_type": "markdown",
      "source": [
        "The first thing we need to do is prepare the data. Specifically, we have a categorical column that we want to turn into a \"is this article healthy living?\" column. That is, when an article is about healthy living, it should have a 1, when it's anything else, it should be a 0."
      ],
      "metadata": {
        "id": "YKvESWUF5f4Y"
      }
    },
    {
      "cell_type": "code",
      "source": [
        "reviews[reviews['category'].str.contains(\"HEALTHY LIVING\")]"
      ],
      "metadata": {
        "id": "Bz1PoZOPriCk",
        "outputId": "f369a006-d6c4-426c-dc50-a84df482b72c",
        "colab": {
          "base_uri": "https://localhost:8080/",
          "height": 658
        }
      },
      "execution_count": 7,
      "outputs": [
        {
          "output_type": "execute_result",
          "data": {
            "text/plain": [
              "              category                                           headline  \\\n",
              "7578    HEALTHY LIVING  To The People Who Say ‘I’m Tired’ When Someone...   \n",
              "7693    HEALTHY LIVING  Eating Shake Shack Made Me Feel Healthier Than...   \n",
              "7747    HEALTHY LIVING  How To Stay Updated On The News Without Losing...   \n",
              "7927    HEALTHY LIVING  27 Perfect Tweets About Whole30 That Will Make...   \n",
              "7934    HEALTHY LIVING         The Real Reason Your Hands Are Always Cold   \n",
              "...                ...                                                ...   \n",
              "124913  HEALTHY LIVING  Why You Need Both a 'Bouncer' and a 'Bartender...   \n",
              "124914  HEALTHY LIVING  How Video Games Can Improve Dialogue on Mental...   \n",
              "124925  HEALTHY LIVING  Wake-Up Calls Inspired My Change From Overdriv...   \n",
              "124950  HEALTHY LIVING        Loving a Narcissist Without Losing Yourself   \n",
              "124988  HEALTHY LIVING                            Reasons Not to Be Happy   \n",
              "\n",
              "                                                  authors  \\\n",
              "7578    The Mighty, ContributorWe face disability, dis...   \n",
              "7693    Colleen Werner, ContributorCampus Editor-at-Large   \n",
              "7747                                       Lindsay Holmes   \n",
              "7927                                       Lindsay Holmes   \n",
              "7934    Refinery29, ContributorThe #1 new-media brand ...   \n",
              "...                                                   ...   \n",
              "124913  Elizabeth Grace Saunders, ContributorFounder, ...   \n",
              "124914         Mona Shattell, Contributornurse researcher   \n",
              "124925  Jane Shure, ContributorLeadership Coach, Psych...   \n",
              "124950  Nancy Colier, ContributorPsychotherapist, inte...   \n",
              "124988  Mindy Utay, Contributor\"Calming Life's Conflicts\"   \n",
              "\n",
              "                                                     link  \\\n",
              "7578    https://www.huffingtonpost.com/entry/to-the-pe...   \n",
              "7693    https://www.huffingtonpost.com/entry/eating-sh...   \n",
              "7747    https://www.huffingtonpost.com/entry/anxiety-f...   \n",
              "7927    https://www.huffingtonpost.com/entry/tweets-ab...   \n",
              "7934    https://www.huffingtonpost.com/entry/the-real-...   \n",
              "...                                                   ...   \n",
              "124913  https://www.huffingtonpost.com/entry/happy-hea...   \n",
              "124914  https://www.huffingtonpost.com/entry/mental-il...   \n",
              "124925  https://www.huffingtonpost.com/entry/wake-up-c...   \n",
              "124950  https://www.huffingtonpost.com/entry/narcissis...   \n",
              "124988  https://www.huffingtonpost.com/entry/happiness...   \n",
              "\n",
              "                                        short_description       date  \\\n",
              "7578    When you feel like this, it’s important to kno... 2018-01-16   \n",
              "7693    I can vividly remember the first time I felt f... 2018-01-12   \n",
              "7747       Because it's only becoming more of a struggle. 2018-01-12   \n",
              "7927    \"The only Whole30 I want to participate in is ... 2018-01-10   \n",
              "7934    Essentially, your hands are kept warm thanks t... 2018-01-10   \n",
              "...                                                   ...        ...   \n",
              "124913  Instead of judging whether you made the right ... 2014-04-18   \n",
              "124914  While there are strong arguments for the games... 2014-04-18   \n",
              "124925  My wake-up call marching orders were clear: No... 2014-04-18   \n",
              "124950  It is very difficult for some people to see an... 2014-04-18   \n",
              "124988  Our thoughts and feelings are powerful, but ma... 2014-04-18   \n",
              "\n",
              "                                            combined_text  \n",
              "7578    To The People Who Say ‘I’m Tired’ When Someone...  \n",
              "7693    Eating Shake Shack Made Me Feel Healthier Than...  \n",
              "7747    How To Stay Updated On The News Without Losing...  \n",
              "7927    27 Perfect Tweets About Whole30 That Will Make...  \n",
              "7934    The Real Reason Your Hands Are Always Cold Ess...  \n",
              "...                                                   ...  \n",
              "124913  Why You Need Both a 'Bouncer' and a 'Bartender...  \n",
              "124914  How Video Games Can Improve Dialogue on Mental...  \n",
              "124925  Wake-Up Calls Inspired My Change From Overdriv...  \n",
              "124950  Loving a Narcissist Without Losing Yourself It...  \n",
              "124988  Reasons Not to Be Happy Our thoughts and feeli...  \n",
              "\n",
              "[6694 rows x 7 columns]"
            ],
            "text/html": [
              "\n",
              "  <div id=\"df-a3087b63-1a9a-4f01-9fbb-b87a99083ea3\">\n",
              "    <div class=\"colab-df-container\">\n",
              "      <div>\n",
              "<style scoped>\n",
              "    .dataframe tbody tr th:only-of-type {\n",
              "        vertical-align: middle;\n",
              "    }\n",
              "\n",
              "    .dataframe tbody tr th {\n",
              "        vertical-align: top;\n",
              "    }\n",
              "\n",
              "    .dataframe thead th {\n",
              "        text-align: right;\n",
              "    }\n",
              "</style>\n",
              "<table border=\"1\" class=\"dataframe\">\n",
              "  <thead>\n",
              "    <tr style=\"text-align: right;\">\n",
              "      <th></th>\n",
              "      <th>category</th>\n",
              "      <th>headline</th>\n",
              "      <th>authors</th>\n",
              "      <th>link</th>\n",
              "      <th>short_description</th>\n",
              "      <th>date</th>\n",
              "      <th>combined_text</th>\n",
              "    </tr>\n",
              "  </thead>\n",
              "  <tbody>\n",
              "    <tr>\n",
              "      <th>7578</th>\n",
              "      <td>HEALTHY LIVING</td>\n",
              "      <td>To The People Who Say ‘I’m Tired’ When Someone...</td>\n",
              "      <td>The Mighty, ContributorWe face disability, dis...</td>\n",
              "      <td>https://www.huffingtonpost.com/entry/to-the-pe...</td>\n",
              "      <td>When you feel like this, it’s important to kno...</td>\n",
              "      <td>2018-01-16</td>\n",
              "      <td>To The People Who Say ‘I’m Tired’ When Someone...</td>\n",
              "    </tr>\n",
              "    <tr>\n",
              "      <th>7693</th>\n",
              "      <td>HEALTHY LIVING</td>\n",
              "      <td>Eating Shake Shack Made Me Feel Healthier Than...</td>\n",
              "      <td>Colleen Werner, ContributorCampus Editor-at-Large</td>\n",
              "      <td>https://www.huffingtonpost.com/entry/eating-sh...</td>\n",
              "      <td>I can vividly remember the first time I felt f...</td>\n",
              "      <td>2018-01-12</td>\n",
              "      <td>Eating Shake Shack Made Me Feel Healthier Than...</td>\n",
              "    </tr>\n",
              "    <tr>\n",
              "      <th>7747</th>\n",
              "      <td>HEALTHY LIVING</td>\n",
              "      <td>How To Stay Updated On The News Without Losing...</td>\n",
              "      <td>Lindsay Holmes</td>\n",
              "      <td>https://www.huffingtonpost.com/entry/anxiety-f...</td>\n",
              "      <td>Because it's only becoming more of a struggle.</td>\n",
              "      <td>2018-01-12</td>\n",
              "      <td>How To Stay Updated On The News Without Losing...</td>\n",
              "    </tr>\n",
              "    <tr>\n",
              "      <th>7927</th>\n",
              "      <td>HEALTHY LIVING</td>\n",
              "      <td>27 Perfect Tweets About Whole30 That Will Make...</td>\n",
              "      <td>Lindsay Holmes</td>\n",
              "      <td>https://www.huffingtonpost.com/entry/tweets-ab...</td>\n",
              "      <td>\"The only Whole30 I want to participate in is ...</td>\n",
              "      <td>2018-01-10</td>\n",
              "      <td>27 Perfect Tweets About Whole30 That Will Make...</td>\n",
              "    </tr>\n",
              "    <tr>\n",
              "      <th>7934</th>\n",
              "      <td>HEALTHY LIVING</td>\n",
              "      <td>The Real Reason Your Hands Are Always Cold</td>\n",
              "      <td>Refinery29, ContributorThe #1 new-media brand ...</td>\n",
              "      <td>https://www.huffingtonpost.com/entry/the-real-...</td>\n",
              "      <td>Essentially, your hands are kept warm thanks t...</td>\n",
              "      <td>2018-01-10</td>\n",
              "      <td>The Real Reason Your Hands Are Always Cold Ess...</td>\n",
              "    </tr>\n",
              "    <tr>\n",
              "      <th>...</th>\n",
              "      <td>...</td>\n",
              "      <td>...</td>\n",
              "      <td>...</td>\n",
              "      <td>...</td>\n",
              "      <td>...</td>\n",
              "      <td>...</td>\n",
              "      <td>...</td>\n",
              "    </tr>\n",
              "    <tr>\n",
              "      <th>124913</th>\n",
              "      <td>HEALTHY LIVING</td>\n",
              "      <td>Why You Need Both a 'Bouncer' and a 'Bartender...</td>\n",
              "      <td>Elizabeth Grace Saunders, ContributorFounder, ...</td>\n",
              "      <td>https://www.huffingtonpost.com/entry/happy-hea...</td>\n",
              "      <td>Instead of judging whether you made the right ...</td>\n",
              "      <td>2014-04-18</td>\n",
              "      <td>Why You Need Both a 'Bouncer' and a 'Bartender...</td>\n",
              "    </tr>\n",
              "    <tr>\n",
              "      <th>124914</th>\n",
              "      <td>HEALTHY LIVING</td>\n",
              "      <td>How Video Games Can Improve Dialogue on Mental...</td>\n",
              "      <td>Mona Shattell, Contributornurse researcher</td>\n",
              "      <td>https://www.huffingtonpost.com/entry/mental-il...</td>\n",
              "      <td>While there are strong arguments for the games...</td>\n",
              "      <td>2014-04-18</td>\n",
              "      <td>How Video Games Can Improve Dialogue on Mental...</td>\n",
              "    </tr>\n",
              "    <tr>\n",
              "      <th>124925</th>\n",
              "      <td>HEALTHY LIVING</td>\n",
              "      <td>Wake-Up Calls Inspired My Change From Overdriv...</td>\n",
              "      <td>Jane Shure, ContributorLeadership Coach, Psych...</td>\n",
              "      <td>https://www.huffingtonpost.com/entry/wake-up-c...</td>\n",
              "      <td>My wake-up call marching orders were clear: No...</td>\n",
              "      <td>2014-04-18</td>\n",
              "      <td>Wake-Up Calls Inspired My Change From Overdriv...</td>\n",
              "    </tr>\n",
              "    <tr>\n",
              "      <th>124950</th>\n",
              "      <td>HEALTHY LIVING</td>\n",
              "      <td>Loving a Narcissist Without Losing Yourself</td>\n",
              "      <td>Nancy Colier, ContributorPsychotherapist, inte...</td>\n",
              "      <td>https://www.huffingtonpost.com/entry/narcissis...</td>\n",
              "      <td>It is very difficult for some people to see an...</td>\n",
              "      <td>2014-04-18</td>\n",
              "      <td>Loving a Narcissist Without Losing Yourself It...</td>\n",
              "    </tr>\n",
              "    <tr>\n",
              "      <th>124988</th>\n",
              "      <td>HEALTHY LIVING</td>\n",
              "      <td>Reasons Not to Be Happy</td>\n",
              "      <td>Mindy Utay, Contributor\"Calming Life's Conflicts\"</td>\n",
              "      <td>https://www.huffingtonpost.com/entry/happiness...</td>\n",
              "      <td>Our thoughts and feelings are powerful, but ma...</td>\n",
              "      <td>2014-04-18</td>\n",
              "      <td>Reasons Not to Be Happy Our thoughts and feeli...</td>\n",
              "    </tr>\n",
              "  </tbody>\n",
              "</table>\n",
              "<p>6694 rows × 7 columns</p>\n",
              "</div>\n",
              "      <button class=\"colab-df-convert\" onclick=\"convertToInteractive('df-a3087b63-1a9a-4f01-9fbb-b87a99083ea3')\"\n",
              "              title=\"Convert this dataframe to an interactive table.\"\n",
              "              style=\"display:none;\">\n",
              "        \n",
              "  <svg xmlns=\"http://www.w3.org/2000/svg\" height=\"24px\"viewBox=\"0 0 24 24\"\n",
              "       width=\"24px\">\n",
              "    <path d=\"M0 0h24v24H0V0z\" fill=\"none\"/>\n",
              "    <path d=\"M18.56 5.44l.94 2.06.94-2.06 2.06-.94-2.06-.94-.94-2.06-.94 2.06-2.06.94zm-11 1L8.5 8.5l.94-2.06 2.06-.94-2.06-.94L8.5 2.5l-.94 2.06-2.06.94zm10 10l.94 2.06.94-2.06 2.06-.94-2.06-.94-.94-2.06-.94 2.06-2.06.94z\"/><path d=\"M17.41 7.96l-1.37-1.37c-.4-.4-.92-.59-1.43-.59-.52 0-1.04.2-1.43.59L10.3 9.45l-7.72 7.72c-.78.78-.78 2.05 0 2.83L4 21.41c.39.39.9.59 1.41.59.51 0 1.02-.2 1.41-.59l7.78-7.78 2.81-2.81c.8-.78.8-2.07 0-2.86zM5.41 20L4 18.59l7.72-7.72 1.47 1.35L5.41 20z\"/>\n",
              "  </svg>\n",
              "      </button>\n",
              "      \n",
              "  <style>\n",
              "    .colab-df-container {\n",
              "      display:flex;\n",
              "      flex-wrap:wrap;\n",
              "      gap: 12px;\n",
              "    }\n",
              "\n",
              "    .colab-df-convert {\n",
              "      background-color: #E8F0FE;\n",
              "      border: none;\n",
              "      border-radius: 50%;\n",
              "      cursor: pointer;\n",
              "      display: none;\n",
              "      fill: #1967D2;\n",
              "      height: 32px;\n",
              "      padding: 0 0 0 0;\n",
              "      width: 32px;\n",
              "    }\n",
              "\n",
              "    .colab-df-convert:hover {\n",
              "      background-color: #E2EBFA;\n",
              "      box-shadow: 0px 1px 2px rgba(60, 64, 67, 0.3), 0px 1px 3px 1px rgba(60, 64, 67, 0.15);\n",
              "      fill: #174EA6;\n",
              "    }\n",
              "\n",
              "    [theme=dark] .colab-df-convert {\n",
              "      background-color: #3B4455;\n",
              "      fill: #D2E3FC;\n",
              "    }\n",
              "\n",
              "    [theme=dark] .colab-df-convert:hover {\n",
              "      background-color: #434B5C;\n",
              "      box-shadow: 0px 1px 3px 1px rgba(0, 0, 0, 0.15);\n",
              "      filter: drop-shadow(0px 1px 2px rgba(0, 0, 0, 0.3));\n",
              "      fill: #FFFFFF;\n",
              "    }\n",
              "  </style>\n",
              "\n",
              "      <script>\n",
              "        const buttonEl =\n",
              "          document.querySelector('#df-a3087b63-1a9a-4f01-9fbb-b87a99083ea3 button.colab-df-convert');\n",
              "        buttonEl.style.display =\n",
              "          google.colab.kernel.accessAllowed ? 'block' : 'none';\n",
              "\n",
              "        async function convertToInteractive(key) {\n",
              "          const element = document.querySelector('#df-a3087b63-1a9a-4f01-9fbb-b87a99083ea3');\n",
              "          const dataTable =\n",
              "            await google.colab.kernel.invokeFunction('convertToInteractive',\n",
              "                                                     [key], {});\n",
              "          if (!dataTable) return;\n",
              "\n",
              "          const docLinkHtml = 'Like what you see? Visit the ' +\n",
              "            '<a target=\"_blank\" href=https://colab.research.google.com/notebooks/data_table.ipynb>data table notebook</a>'\n",
              "            + ' to learn more about interactive tables.';\n",
              "          element.innerHTML = '';\n",
              "          dataTable['output_type'] = 'display_data';\n",
              "          await google.colab.output.renderOutput(dataTable, element);\n",
              "          const docLink = document.createElement('div');\n",
              "          docLink.innerHTML = docLinkHtml;\n",
              "          element.appendChild(docLink);\n",
              "        }\n",
              "      </script>\n",
              "    </div>\n",
              "  </div>\n",
              "  "
            ]
          },
          "metadata": {},
          "execution_count": 7
        }
      ]
    },
    {
      "cell_type": "markdown",
      "source": [
        "---\n",
        "\n",
        "## 🧐 Lab Quiz Question #1\n",
        "\n",
        "Precisely how many \"HEALTHY LIVING\" articles are in the data? Use the `rows x columns` information on the pandas dataframe above to determine your answer.\n",
        "\n",
        "Be sure to answer this and the remaining lab quiz questions in Lab Quiz 1.\n",
        "\n",
        "---"
      ],
      "metadata": {
        "id": "6ppYcTL5Jsdx"
      }
    },
    {
      "cell_type": "markdown",
      "source": [
        "A quick pandas search shows that we have 6.7k articles that are about healthy living. The following line of code uses numpy's `where` functionality to help us recode the data. When \"Healthy Living\" appears in the \"category\" column, we'll label the \"healthy\" column with a 1. When it doesn't, it'll be 0."
      ],
      "metadata": {
        "id": "mFRSSQP550eQ"
      }
    },
    {
      "cell_type": "code",
      "source": [
        "reviews['healthy'] = np.where((reviews['category'] == 'HEALTHY LIVING'), 1, 0)"
      ],
      "metadata": {
        "id": "ccC1GR85suZJ"
      },
      "execution_count": 8,
      "outputs": []
    },
    {
      "cell_type": "code",
      "source": [
        "reviews['healthy'].describe()"
      ],
      "metadata": {
        "id": "aexMvzhKtyDN",
        "outputId": "1a71a6ed-1a80-443a-9d46-65db509e1bbd",
        "colab": {
          "base_uri": "https://localhost:8080/"
        }
      },
      "execution_count": 9,
      "outputs": [
        {
          "output_type": "execute_result",
          "data": {
            "text/plain": [
              "count    200853.000000\n",
              "mean          0.033328\n",
              "std           0.179492\n",
              "min           0.000000\n",
              "25%           0.000000\n",
              "50%           0.000000\n",
              "75%           0.000000\n",
              "max           1.000000\n",
              "Name: healthy, dtype: float64"
            ]
          },
          "metadata": {},
          "execution_count": 9
        }
      ]
    },
    {
      "cell_type": "markdown",
      "source": [
        "Yes! We're seeing the 1's where we'd expect."
      ],
      "metadata": {
        "id": "sHXxsWHs6MUQ"
      }
    },
    {
      "cell_type": "markdown",
      "source": [
        "---\n",
        "\n",
        "## 🧐 Lab Quiz Question #2\n",
        "\n",
        "Precisely how many negative-class documents (i.e. texts that are **not** labeled as \"healthy\") in this dataset? Use the count from the above `describe` and the known number of \"healthy\" documents to determine your answer.\n",
        "\n",
        "---"
      ],
      "metadata": {
        "id": "4Z-dwnhLHxmm"
      }
    },
    {
      "cell_type": "markdown",
      "source": [
        "## Balancing the data"
      ],
      "metadata": {
        "id": "S766s41yJVdf"
      }
    },
    {
      "cell_type": "markdown",
      "source": [
        "Our data is very unbalanced. We have considerably more articles about healthly living than those that are not. If we give a machine learning algorithm this much negative evidence, it'll end up tuning itself to label everything as 0's more often than not. So, let's balance our data to the number of healthy living articles."
      ],
      "metadata": {
        "id": "jcnU6zeuan-N"
      }
    },
    {
      "cell_type": "code",
      "source": [
        "sample_amount =  len(reviews[reviews[\"healthy\"] == 1])\n",
        "\n",
        "healthy = reviews[reviews['healthy'] == 1]\n",
        "not_healthy = reviews[reviews['healthy'] == 0].sample(n=sample_amount)"
      ],
      "metadata": {
        "id": "xfLYND3fam_x"
      },
      "execution_count": 10,
      "outputs": []
    },
    {
      "cell_type": "code",
      "source": [
        "review_sample = pd.concat([healthy,not_healthy])"
      ],
      "metadata": {
        "id": "B48IOQpGdsp1"
      },
      "execution_count": 11,
      "outputs": []
    },
    {
      "cell_type": "code",
      "source": [
        "review_sample.describe()"
      ],
      "metadata": {
        "id": "CHr4h7FYed_Z",
        "outputId": "7612e254-594a-4852-e75f-6f25369d30ee",
        "colab": {
          "base_uri": "https://localhost:8080/",
          "height": 300
        }
      },
      "execution_count": 12,
      "outputs": [
        {
          "output_type": "execute_result",
          "data": {
            "text/plain": [
              "            healthy\n",
              "count  13388.000000\n",
              "mean       0.500000\n",
              "std        0.500019\n",
              "min        0.000000\n",
              "25%        0.000000\n",
              "50%        0.500000\n",
              "75%        1.000000\n",
              "max        1.000000"
            ],
            "text/html": [
              "\n",
              "  <div id=\"df-a90145f9-d762-4c41-ae6e-7234ecfe74a1\">\n",
              "    <div class=\"colab-df-container\">\n",
              "      <div>\n",
              "<style scoped>\n",
              "    .dataframe tbody tr th:only-of-type {\n",
              "        vertical-align: middle;\n",
              "    }\n",
              "\n",
              "    .dataframe tbody tr th {\n",
              "        vertical-align: top;\n",
              "    }\n",
              "\n",
              "    .dataframe thead th {\n",
              "        text-align: right;\n",
              "    }\n",
              "</style>\n",
              "<table border=\"1\" class=\"dataframe\">\n",
              "  <thead>\n",
              "    <tr style=\"text-align: right;\">\n",
              "      <th></th>\n",
              "      <th>healthy</th>\n",
              "    </tr>\n",
              "  </thead>\n",
              "  <tbody>\n",
              "    <tr>\n",
              "      <th>count</th>\n",
              "      <td>13388.000000</td>\n",
              "    </tr>\n",
              "    <tr>\n",
              "      <th>mean</th>\n",
              "      <td>0.500000</td>\n",
              "    </tr>\n",
              "    <tr>\n",
              "      <th>std</th>\n",
              "      <td>0.500019</td>\n",
              "    </tr>\n",
              "    <tr>\n",
              "      <th>min</th>\n",
              "      <td>0.000000</td>\n",
              "    </tr>\n",
              "    <tr>\n",
              "      <th>25%</th>\n",
              "      <td>0.000000</td>\n",
              "    </tr>\n",
              "    <tr>\n",
              "      <th>50%</th>\n",
              "      <td>0.500000</td>\n",
              "    </tr>\n",
              "    <tr>\n",
              "      <th>75%</th>\n",
              "      <td>1.000000</td>\n",
              "    </tr>\n",
              "    <tr>\n",
              "      <th>max</th>\n",
              "      <td>1.000000</td>\n",
              "    </tr>\n",
              "  </tbody>\n",
              "</table>\n",
              "</div>\n",
              "      <button class=\"colab-df-convert\" onclick=\"convertToInteractive('df-a90145f9-d762-4c41-ae6e-7234ecfe74a1')\"\n",
              "              title=\"Convert this dataframe to an interactive table.\"\n",
              "              style=\"display:none;\">\n",
              "        \n",
              "  <svg xmlns=\"http://www.w3.org/2000/svg\" height=\"24px\"viewBox=\"0 0 24 24\"\n",
              "       width=\"24px\">\n",
              "    <path d=\"M0 0h24v24H0V0z\" fill=\"none\"/>\n",
              "    <path d=\"M18.56 5.44l.94 2.06.94-2.06 2.06-.94-2.06-.94-.94-2.06-.94 2.06-2.06.94zm-11 1L8.5 8.5l.94-2.06 2.06-.94-2.06-.94L8.5 2.5l-.94 2.06-2.06.94zm10 10l.94 2.06.94-2.06 2.06-.94-2.06-.94-.94-2.06-.94 2.06-2.06.94z\"/><path d=\"M17.41 7.96l-1.37-1.37c-.4-.4-.92-.59-1.43-.59-.52 0-1.04.2-1.43.59L10.3 9.45l-7.72 7.72c-.78.78-.78 2.05 0 2.83L4 21.41c.39.39.9.59 1.41.59.51 0 1.02-.2 1.41-.59l7.78-7.78 2.81-2.81c.8-.78.8-2.07 0-2.86zM5.41 20L4 18.59l7.72-7.72 1.47 1.35L5.41 20z\"/>\n",
              "  </svg>\n",
              "      </button>\n",
              "      \n",
              "  <style>\n",
              "    .colab-df-container {\n",
              "      display:flex;\n",
              "      flex-wrap:wrap;\n",
              "      gap: 12px;\n",
              "    }\n",
              "\n",
              "    .colab-df-convert {\n",
              "      background-color: #E8F0FE;\n",
              "      border: none;\n",
              "      border-radius: 50%;\n",
              "      cursor: pointer;\n",
              "      display: none;\n",
              "      fill: #1967D2;\n",
              "      height: 32px;\n",
              "      padding: 0 0 0 0;\n",
              "      width: 32px;\n",
              "    }\n",
              "\n",
              "    .colab-df-convert:hover {\n",
              "      background-color: #E2EBFA;\n",
              "      box-shadow: 0px 1px 2px rgba(60, 64, 67, 0.3), 0px 1px 3px 1px rgba(60, 64, 67, 0.15);\n",
              "      fill: #174EA6;\n",
              "    }\n",
              "\n",
              "    [theme=dark] .colab-df-convert {\n",
              "      background-color: #3B4455;\n",
              "      fill: #D2E3FC;\n",
              "    }\n",
              "\n",
              "    [theme=dark] .colab-df-convert:hover {\n",
              "      background-color: #434B5C;\n",
              "      box-shadow: 0px 1px 3px 1px rgba(0, 0, 0, 0.15);\n",
              "      filter: drop-shadow(0px 1px 2px rgba(0, 0, 0, 0.3));\n",
              "      fill: #FFFFFF;\n",
              "    }\n",
              "  </style>\n",
              "\n",
              "      <script>\n",
              "        const buttonEl =\n",
              "          document.querySelector('#df-a90145f9-d762-4c41-ae6e-7234ecfe74a1 button.colab-df-convert');\n",
              "        buttonEl.style.display =\n",
              "          google.colab.kernel.accessAllowed ? 'block' : 'none';\n",
              "\n",
              "        async function convertToInteractive(key) {\n",
              "          const element = document.querySelector('#df-a90145f9-d762-4c41-ae6e-7234ecfe74a1');\n",
              "          const dataTable =\n",
              "            await google.colab.kernel.invokeFunction('convertToInteractive',\n",
              "                                                     [key], {});\n",
              "          if (!dataTable) return;\n",
              "\n",
              "          const docLinkHtml = 'Like what you see? Visit the ' +\n",
              "            '<a target=\"_blank\" href=https://colab.research.google.com/notebooks/data_table.ipynb>data table notebook</a>'\n",
              "            + ' to learn more about interactive tables.';\n",
              "          element.innerHTML = '';\n",
              "          dataTable['output_type'] = 'display_data';\n",
              "          await google.colab.output.renderOutput(dataTable, element);\n",
              "          const docLink = document.createElement('div');\n",
              "          docLink.innerHTML = docLinkHtml;\n",
              "          element.appendChild(docLink);\n",
              "        }\n",
              "      </script>\n",
              "    </div>\n",
              "  </div>\n",
              "  "
            ]
          },
          "metadata": {},
          "execution_count": 12
        }
      ]
    },
    {
      "cell_type": "markdown",
      "source": [
        "A mean of .5 means these datasets are now perfectly balanced! And the N is 2x the number of healthy-living articles."
      ],
      "metadata": {
        "id": "0DoFeOx8eniJ"
      }
    },
    {
      "cell_type": "markdown",
      "source": [
        "---\n",
        "\n",
        "## 🧐 Lab Quiz Question #3\n",
        "\n",
        "What is the final count of all data samples in the balanced dataset?\n",
        "\n",
        "Use the count from the `describe` above to determine your answer.\n",
        "\n",
        "---"
      ],
      "metadata": {
        "id": "-_gKMIReLOVr"
      }
    },
    {
      "cell_type": "markdown",
      "source": [
        "## Moving on to Lab 2"
      ],
      "metadata": {
        "id": "oW6feK8MlO8W"
      }
    },
    {
      "cell_type": "markdown",
      "source": [
        "In Lab 2, you will do a quick pass through the code above, and then pick up from this point to train your text classification model."
      ],
      "metadata": {
        "id": "Da30cxU2lRHc"
      }
    }
  ]
}