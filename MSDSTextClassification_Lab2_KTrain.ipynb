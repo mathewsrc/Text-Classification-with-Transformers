{
  "nbformat": 4,
  "nbformat_minor": 0,
  "metadata": {
    "accelerator": "GPU",
    "colab": {
      "provenance": [],
      "collapsed_sections": [],
      "machine_shape": "hm",
      "include_colab_link": true
    },
    "kernelspec": {
      "display_name": "Python 3",
      "name": "python3"
    }
  },
  "cells": [
    {
      "cell_type": "markdown",
      "metadata": {
        "id": "view-in-github",
        "colab_type": "text"
      },
      "source": [
        "<a href=\"https://colab.research.google.com/github/punkmic/Text-Classification-Lab-1-Data-preparation-with-pandas/blob/master/MSDSTextClassification_Lab2_KTrain.ipynb\" target=\"_parent\"><img src=\"https://colab.research.google.com/assets/colab-badge.svg\" alt=\"Open In Colab\"/></a>"
      ]
    },
    {
      "cell_type": "markdown",
      "source": [
        "# Text Classification, Lab 2: Building a model with K-Train"
      ],
      "metadata": {
        "id": "vBVrSZE47UNQ"
      }
    },
    {
      "cell_type": "markdown",
      "source": [
        "## ⚡️ Make a Copy\n",
        "\n",
        "Save a copy of this notebook in your Google Drive before continuing. Be sure to edit your own copy, not the original notebook."
      ],
      "metadata": {
        "id": "7vJvCM_x3buN"
      }
    },
    {
      "cell_type": "markdown",
      "source": [
        "## About this lab"
      ],
      "metadata": {
        "id": "ZXuMewVjCBYy"
      }
    },
    {
      "cell_type": "markdown",
      "source": [
        "The first part of this lab is identical to Lab 1, and you should be able to step through it easily.\n",
        "\n",
        "We continue now with the goal of building an inference model for predicting whether or not a document is about \"healthy living.\" We will use the K-Train library to do this."
      ],
      "metadata": {
        "id": "8ERHzPAZCE9t"
      }
    },
    {
      "cell_type": "markdown",
      "source": [
        "## About the final project"
      ],
      "metadata": {
        "id": "m45bF3QMOy1v"
      }
    },
    {
      "cell_type": "markdown",
      "source": [
        "\n",
        "Recall that you are working toward a final project. After completing this lab, you will want to go the extra mile and explore ways to tweak and improve your model. See the final project description for further details on what is expected."
      ],
      "metadata": {
        "id": "O_eBt6TiOdgc"
      }
    },
    {
      "cell_type": "markdown",
      "metadata": {
        "id": "hGSUArJ_ZYN3"
      },
      "source": [
        "## Imports"
      ]
    },
    {
      "cell_type": "markdown",
      "source": [
        "We're going to be using Google's Tensorflow package: \n",
        "https://www.tensorflow.org/tutorials\n",
        "\n",
        "We're using an API wrapper for Tensorflow called ktrain. It's absolutely fabulous because it really abstracts the whole deep learning process into a workflow so easy, even a computational social scientist can do it:\n",
        "https://github.com/amaiya/ktrain"
      ],
      "metadata": {
        "id": "Y0MIZDrs0Ddx"
      }
    },
    {
      "cell_type": "code",
      "metadata": {
        "id": "16hoKG5dbeWs"
      },
      "source": [
        "import os\n",
        "try:\n",
        "  import ktrain\n",
        "except:\n",
        "  !pip install ktrain\n",
        "  os.kill(os.getpid(), 9)\n",
        "import ktrain\n",
        "import pandas as pd\n",
        "import numpy as np"
      ],
      "execution_count": null,
      "outputs": []
    },
    {
      "cell_type": "markdown",
      "source": [
        "## Mount Google Drive"
      ],
      "metadata": {
        "id": "oaiVgZtNyRf2"
      }
    },
    {
      "cell_type": "code",
      "source": [
        "from google.colab import drive\n",
        "drive.mount('/content/drive')"
      ],
      "metadata": {
        "id": "V_ewzr0kyTXo"
      },
      "execution_count": null,
      "outputs": []
    },
    {
      "cell_type": "markdown",
      "source": [
        "## Set your google colab runtime to use GPU, a must for deep learning!\n",
        "\n",
        "Runtime > Change Runtime Type > GPU\n",
        "\n",
        "The following code snippet will show you GPU information for your runtime."
      ],
      "metadata": {
        "id": "E3XGSpfy0xPv"
      }
    },
    {
      "cell_type": "code",
      "source": [
        "gpu_info = !nvidia-smi\n",
        "gpu_info = '\\n'.join(gpu_info)\n",
        "if gpu_info.find('failed') >= 0:\n",
        "  print('Not connected to a GPU')\n",
        "else:\n",
        "  print(gpu_info)"
      ],
      "metadata": {
        "id": "I0GWta-7ELIN"
      },
      "execution_count": null,
      "outputs": []
    },
    {
      "cell_type": "markdown",
      "source": [
        "## Load the data"
      ],
      "metadata": {
        "id": "oLd-Qkl7Djha"
      }
    },
    {
      "cell_type": "markdown",
      "source": [
        "The data file should be in your Google Drive from Lab 1."
      ],
      "metadata": {
        "id": "idE4-ojt0-dH"
      }
    },
    {
      "cell_type": "code",
      "source": [
        "reviews = pd.read_json(\"drive/MyDrive/news_category_trainingdata.json\")"
      ],
      "metadata": {
        "id": "a7mhLblG6saq"
      },
      "execution_count": null,
      "outputs": []
    },
    {
      "cell_type": "markdown",
      "source": [
        "## Inspect the data"
      ],
      "metadata": {
        "id": "x-NXTV--Y3ue"
      }
    },
    {
      "cell_type": "code",
      "source": [
        "reviews.head()"
      ],
      "metadata": {
        "id": "quwyVcHh6P1s"
      },
      "execution_count": null,
      "outputs": []
    },
    {
      "cell_type": "markdown",
      "source": [
        "## Prepare the data"
      ],
      "metadata": {
        "id": "HbCERZaXG0p-"
      }
    },
    {
      "cell_type": "markdown",
      "source": [
        "Most machine learning tools in Python accept one field/column/string. So we have to merge our two text column. Let's separate it with a space."
      ],
      "metadata": {
        "id": "fZ7xO9Aa6iyU"
      }
    },
    {
      "cell_type": "code",
      "source": [
        "reviews['combined_text'] = reviews['headline'] + ' ' + reviews['short_description']"
      ],
      "metadata": {
        "id": "F6VLEzaSuDyx"
      },
      "execution_count": null,
      "outputs": []
    },
    {
      "cell_type": "markdown",
      "source": [
        "The first thing we need to do is prepare the data. Specifically, we have a categorical column that we want to turn into a \"is this article healthy living?\" column. That is, when an article is about healthy living, it should have a 1, when it's anything else, it should be a 0."
      ],
      "metadata": {
        "id": "YKvESWUF5f4Y"
      }
    },
    {
      "cell_type": "code",
      "source": [
        "reviews[reviews['category'].str.contains(\"HEALTHY LIVING\")]"
      ],
      "metadata": {
        "id": "Bz1PoZOPriCk"
      },
      "execution_count": null,
      "outputs": []
    },
    {
      "cell_type": "code",
      "source": [
        "reviews['healthy'] = np.where((reviews['category'] == 'HEALTHY LIVING'), 1, 0)"
      ],
      "metadata": {
        "id": "ccC1GR85suZJ"
      },
      "execution_count": null,
      "outputs": []
    },
    {
      "cell_type": "code",
      "source": [
        "reviews['healthy'].describe()"
      ],
      "metadata": {
        "id": "aexMvzhKtyDN"
      },
      "execution_count": null,
      "outputs": []
    },
    {
      "cell_type": "markdown",
      "source": [
        "## Balance the data"
      ],
      "metadata": {
        "id": "S766s41yJVdf"
      }
    },
    {
      "cell_type": "markdown",
      "source": [
        "To create a balanced data set that includes all of the health living articles, set sample_amount to the total number of those articles.\n",
        "\n",
        "In Lab 1, you balanced the data for the full set of healthy living articles. In the interest of getting through Lab 2 more quickly (in terms of training time for the model), we will use a smaller sample, of just 1000 articles per class. After completing the lab, consider increasing the sample size to see if you can get improvements on the model performance. Of course, be prepared for longer training times when you do that."
      ],
      "metadata": {
        "id": "-4sGp-UdeBMh"
      }
    },
    {
      "cell_type": "code",
      "source": [
        "# We have replaced the sample count with a smaller number in order to expedite\n",
        "# the completion of the lab. For your final project, you will want to use the\n",
        "# full balanced document set which is determined by this commented line:\n",
        "#sample_amount =  len(reviews[reviews[\"healthy\"] == 1]) # the total number of healthy living articles\n",
        "\n",
        "sample_amount = 1000\n",
        "\n",
        "healthy = reviews[reviews['healthy'] == 1].sample(n=sample_amount)\n",
        "not_healthy = reviews[reviews['healthy'] == 0].sample(n=sample_amount)"
      ],
      "metadata": {
        "id": "xfLYND3fam_x"
      },
      "execution_count": null,
      "outputs": []
    },
    {
      "cell_type": "code",
      "source": [
        "review_sample = pd.concat([healthy,not_healthy])"
      ],
      "metadata": {
        "id": "B48IOQpGdsp1"
      },
      "execution_count": null,
      "outputs": []
    },
    {
      "cell_type": "code",
      "source": [
        "review_sample.describe()"
      ],
      "metadata": {
        "id": "CHr4h7FYed_Z"
      },
      "execution_count": null,
      "outputs": []
    },
    {
      "cell_type": "markdown",
      "metadata": {
        "id": "Cljkg1U5aZ3_"
      },
      "source": [
        "# On to Lab 2: Test, Tune and Save Models"
      ]
    },
    {
      "cell_type": "markdown",
      "source": [
        "Here, you will tune and train a predictor model for classifying healthy-living articles. After completing this lab, complete the Lab Quiz by entering your precision and recall values from the validation report for both the negative and positive classes."
      ],
      "metadata": {
        "id": "4KxLQ2lCprkx"
      }
    },
    {
      "cell_type": "code",
      "source": [
        "target_names = ['NOT HEALTHY LIVING','HEALTHY LIVING']"
      ],
      "metadata": {
        "id": "mUuRH7iYqPSX"
      },
      "execution_count": null,
      "outputs": []
    },
    {
      "cell_type": "markdown",
      "source": [
        "---\n",
        "\n",
        "### Experimenting with different transformers\n",
        "\n",
        "For purposes of this lab, we are using the **distilbert-base-uncased** transformer model. Other models you might try for your final project include:\n",
        "\n",
        " * roberta-base\n",
        " * bert-base-uncased\n",
        " * distilroberta-base\n",
        "\n",
        "See all the models here: https://huggingface.co/transformers/pretrained_models.html\n",
        "\n",
        "Some work, some dont, try at your own risk.\n",
        "\n",
        "---"
      ],
      "metadata": {
        "id": "bqj9ZZ4EQCAP"
      }
    },
    {
      "cell_type": "code",
      "source": [
        "train, val, preprocess = ktrain.text.texts_from_df(\n",
        "    review_sample,\n",
        "    \"combined_text\",\n",
        "    label_columns=[\"healthy\"],\n",
        "    val_df=None,\n",
        "    max_features=20000,\n",
        "    maxlen=512,\n",
        "    val_pct=0.1,\n",
        "    ngram_range=1,\n",
        "    preprocess_mode=\"distilbert\",\n",
        "    verbose=1\n",
        ")"
      ],
      "metadata": {
        "id": "Hknt0exnpGRt"
      },
      "execution_count": null,
      "outputs": []
    },
    {
      "cell_type": "code",
      "source": [
        "model = preprocess.get_classifier()\n",
        "learner = ktrain.get_learner(model, train_data=train, val_data=val, batch_size=16)"
      ],
      "metadata": {
        "id": "wD_xu8e30bXp"
      },
      "execution_count": null,
      "outputs": []
    },
    {
      "cell_type": "code",
      "source": [
        "learner.lr_find(max_epochs=6)"
      ],
      "metadata": {
        "id": "qlv9dyx20VH6"
      },
      "execution_count": null,
      "outputs": []
    },
    {
      "cell_type": "code",
      "source": [
        "learner.lr_plot()"
      ],
      "metadata": {
        "id": "xO5quriuQ80x"
      },
      "execution_count": null,
      "outputs": []
    },
    {
      "cell_type": "markdown",
      "source": [
        "Now, use the tuned learner to train the best model.\n",
        "\n",
        "Here, we define a limit of 10 epochs, but in reality, this should stop much sooner due to early stopping."
      ],
      "metadata": {
        "id": "pKUljsZ5YTtQ"
      }
    },
    {
      "cell_type": "code",
      "source": [
        "history=learner.autofit(\n",
        "    1e-4,\n",
        "    checkpoint_folder='checkpoint',\n",
        "    epochs=10,\n",
        "    early_stopping=True\n",
        ")"
      ],
      "metadata": {
        "id": "HX274hDU0j8R"
      },
      "execution_count": null,
      "outputs": []
    },
    {
      "cell_type": "markdown",
      "source": [
        "Get the predictor"
      ],
      "metadata": {
        "id": "zOIwao0SpMsd"
      }
    },
    {
      "cell_type": "code",
      "metadata": {
        "id": "ti1VfWebw-a3"
      },
      "source": [
        "predictor = ktrain.get_predictor(learner.model, preproc=preprocess)"
      ],
      "execution_count": null,
      "outputs": []
    },
    {
      "cell_type": "markdown",
      "source": [
        "Optionally, uncomment this code to save the predictor and reload it later. Note, the saved models can be quite large and may quickly use up space on your Google Drive."
      ],
      "metadata": {
        "id": "G9sqftuppYNb"
      }
    },
    {
      "cell_type": "code",
      "source": [
        "#predictor.save(\"drive/MyDrive/MSDSTextClassification_Lab2.healthy_living\")"
      ],
      "metadata": {
        "id": "EqUostfKpStB"
      },
      "execution_count": null,
      "outputs": []
    },
    {
      "cell_type": "code",
      "source": [
        "validation = learner.validate(val_data=val, print_report=True)"
      ],
      "metadata": {
        "id": "sv5DoNl-Ra8T"
      },
      "execution_count": null,
      "outputs": []
    },
    {
      "cell_type": "markdown",
      "source": [
        "---\n",
        "\n",
        "## 🧐 Lab Quiz Questions 1-4\n",
        "\n",
        "Enter the following values from the validation report into the Lab Quiz:\n",
        "\n",
        " 1. precision for non healthy-living articles\n",
        " 2. recall for non healthy-living articles\n",
        " 3. precision for healthy-living articles\n",
        " 4. recall for healthy-living articles\n",
        "\n",
        " ---\n"
      ],
      "metadata": {
        "id": "9G39ncMXqOKs"
      }
    },
    {
      "cell_type": "markdown",
      "source": [
        "Keep in mind that we've reduced the training set for the sake of expediency. For your final analysis and project, you should complete a run of the full data set. Pay attention to the impact of the input data on the performance of the final model (i.e. the validation scores)"
      ],
      "metadata": {
        "id": "8A4jGZxtnlL5"
      }
    },
    {
      "cell_type": "markdown",
      "source": [
        "# Inspecting the drivers of prediction"
      ],
      "metadata": {
        "id": "1g4KhsgzoQgr"
      }
    },
    {
      "cell_type": "markdown",
      "source": [
        "No matter what the supervised machine learning model, you always want to peak under the hood to see what features are driving prediction. That is, what words sway the outcome of the prediction. It's harder to inspect a neural network. Because all of the layers of a neural network aren't really interpretable to the human eye. \n",
        "\n",
        "Currently, the best practice I've found is a little tool Explainable AI:\n",
        "https://alvinntnu.github.io/python-notes/nlp/ktrain-tutorial-explaining-predictions.html"
      ],
      "metadata": {
        "id": "CLsIxS6houWD"
      }
    },
    {
      "cell_type": "code",
      "metadata": {
        "id": "6urVvKOqUHEl"
      },
      "source": [
        "!pip3 install -q git+https://github.com/amaiya/eli5@tfkeras_0_10_1"
      ],
      "execution_count": null,
      "outputs": []
    },
    {
      "cell_type": "markdown",
      "source": [
        "Let's go ahead and make a little set of test documents to check out"
      ],
      "metadata": {
        "id": "vB1_AaQBp35M"
      }
    },
    {
      "cell_type": "code",
      "source": [
        "test_docs = [\n",
        "'Stress May Be Your Heart’s Worst Enemy Psychological stress activates the fear center in the brain, setting into motion a cascade of reactions that can lead to heart attacks and strokes.',\n",
        "'Exercising to Slim Down? Try Getting Bigger. It’s high time for women to reclaim the real strength behind exercise.',\n",
        "'What Are Your Food Resolutions for the New Year? Join us for the Eat Well Challenge starting in January.',\n",
        "'Why We All Need to Have More Fun. Prioritizing fun may feel impossible right now. But this four-step plan will help you rediscover how to feel more alive.',\n",
        "'Cuomo Will Not Be Prosecuted in Groping Case, Albany D.A. Says. The district attorney described the woman who said former Gov. Andrew Cuomo had groped her as “credible,” but added that proving her allegation would be difficult.',\n",
        "'A Film Captures Jewish Life in a Polish Town Before the Nazis Arrived. A documentary based on a home movie shot by an American in 1938 provides a look at the vibrancy of a Jewish community in Europe just before the Holocaust.' \n",
        "             ]"
      ],
      "metadata": {
        "id": "Phek3FTqqAIl"
      },
      "execution_count": null,
      "outputs": []
    },
    {
      "cell_type": "code",
      "metadata": {
        "id": "fQbBKDiPb9FO"
      },
      "source": [
        "for i, text in enumerate(test_docs):\n",
        "  probs = predictor.predict(text, return_proba=True)\n",
        "  print(\"---------------------------\")\n",
        "  print('The probability this is healthy is %s' % probs[1])\n",
        "  print(text)"
      ],
      "execution_count": null,
      "outputs": []
    },
    {
      "cell_type": "markdown",
      "source": [
        "*These* are pretty obvious examples, but it works exactly as expected!"
      ],
      "metadata": {
        "id": "hha7-WCOr0RN"
      }
    },
    {
      "cell_type": "code",
      "metadata": {
        "id": "KVpTNeKqXhov"
      },
      "source": [
        "predictor.explain('Diversity is the key to a healthy society. Here is what we need to do to make america a more equitable place to live for all.')"
      ],
      "execution_count": null,
      "outputs": []
    },
    {
      "cell_type": "markdown",
      "source": [
        "But you can see, this algorithm is far from perfect. Here you can see that it's probably got too high of an emphasis on the word \"healthy.\""
      ],
      "metadata": {
        "id": "SWgUdJuxsJ1r"
      }
    },
    {
      "cell_type": "markdown",
      "source": [
        "So what would I do next? Well, given that it's over reacting to worrds like health and equitable, I'd try introducing more negative examples into the data, times where healthy is used outside of health and wellness news. We can do this by changing our sample from 50/50 to something like 20/80, but of course, the more documents we process, the longer this model is going to take to make!"
      ],
      "metadata": {
        "id": "1o9GW2qAsfCA"
      }
    }
  ]
}